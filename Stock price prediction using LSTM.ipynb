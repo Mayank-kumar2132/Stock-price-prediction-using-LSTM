{
 "cells": [
  {
   "cell_type": "code",
   "execution_count": 1,
   "id": "a57859be",
   "metadata": {},
   "outputs": [],
   "source": [
    "import numpy as np\n",
    "import pandas as pd\n",
    "\n",
    "import os\n",
    "import matplotlib.pyplot as plt\n",
    "import pandas_datareader as web\n",
    "import datetime as dt\n",
    "\n",
    "from sklearn.preprocessing import MinMaxScaler\n",
    "from tensorflow.keras.models import Sequential\n",
    "from tensorflow.keras.layers import Dense, Dropout, LSTM\n",
    "from tensorflow.keras.callbacks import ModelCheckpoint, EarlyStopping"
   ]
  },
  {
   "cell_type": "code",
   "execution_count": 2,
   "id": "cd29a7d2",
   "metadata": {},
   "outputs": [
    {
     "data": {
      "text/html": [
       "<div>\n",
       "<style scoped>\n",
       "    .dataframe tbody tr th:only-of-type {\n",
       "        vertical-align: middle;\n",
       "    }\n",
       "\n",
       "    .dataframe tbody tr th {\n",
       "        vertical-align: top;\n",
       "    }\n",
       "\n",
       "    .dataframe thead th {\n",
       "        text-align: right;\n",
       "    }\n",
       "</style>\n",
       "<table border=\"1\" class=\"dataframe\">\n",
       "  <thead>\n",
       "    <tr style=\"text-align: right;\">\n",
       "      <th></th>\n",
       "      <th>Price Date</th>\n",
       "      <th>States</th>\n",
       "      <th>Commodity</th>\n",
       "      <th>Modal Price (Rs./Quintal)</th>\n",
       "    </tr>\n",
       "  </thead>\n",
       "  <tbody>\n",
       "    <tr>\n",
       "      <th>0</th>\n",
       "      <td>14 Jul 2020</td>\n",
       "      <td>Delhi</td>\n",
       "      <td>Banana</td>\n",
       "      <td>1550</td>\n",
       "    </tr>\n",
       "    <tr>\n",
       "      <th>1</th>\n",
       "      <td>13 Jul 2020</td>\n",
       "      <td>Delhi</td>\n",
       "      <td>Banana</td>\n",
       "      <td>1500</td>\n",
       "    </tr>\n",
       "    <tr>\n",
       "      <th>2</th>\n",
       "      <td>11 Jul 2020</td>\n",
       "      <td>Delhi</td>\n",
       "      <td>Banana</td>\n",
       "      <td>1500</td>\n",
       "    </tr>\n",
       "  </tbody>\n",
       "</table>\n",
       "</div>"
      ],
      "text/plain": [
       "    Price Date States Commodity  Modal Price (Rs./Quintal)\n",
       "0  14 Jul 2020  Delhi    Banana                       1550\n",
       "1  13 Jul 2020  Delhi    Banana                       1500\n",
       "2  11 Jul 2020  Delhi    Banana                       1500"
      ]
     },
     "execution_count": 2,
     "metadata": {},
     "output_type": "execute_result"
    }
   ],
   "source": [
    "banana=pd.read_csv(r\"C:\\Users\\MAYANK KUMAR\\OneDrive\\Desktop\\OneDrive - K.R. MANGALAM UNIVERSITY\\Banana.csv\")\n",
    "banana[0:3]"
   ]
  },
  {
   "cell_type": "code",
   "execution_count": 3,
   "id": "1c21a6bd",
   "metadata": {},
   "outputs": [],
   "source": [
    "n=len(banana)\n",
    "data=banana[0:(n//10)*9]\n",
    "test_data=banana[(n//10)*9:]"
   ]
  },
  {
   "cell_type": "code",
   "execution_count": 4,
   "id": "69b5ae4e",
   "metadata": {},
   "outputs": [
    {
     "data": {
      "text/html": [
       "<div>\n",
       "<style scoped>\n",
       "    .dataframe tbody tr th:only-of-type {\n",
       "        vertical-align: middle;\n",
       "    }\n",
       "\n",
       "    .dataframe tbody tr th {\n",
       "        vertical-align: top;\n",
       "    }\n",
       "\n",
       "    .dataframe thead th {\n",
       "        text-align: right;\n",
       "    }\n",
       "</style>\n",
       "<table border=\"1\" class=\"dataframe\">\n",
       "  <thead>\n",
       "    <tr style=\"text-align: right;\">\n",
       "      <th></th>\n",
       "      <th>Price Date</th>\n",
       "      <th>States</th>\n",
       "      <th>Commodity</th>\n",
       "      <th>Modal Price (Rs./Quintal)</th>\n",
       "    </tr>\n",
       "  </thead>\n",
       "  <tbody>\n",
       "    <tr>\n",
       "      <th>1674</th>\n",
       "      <td>02 Sep 2014</td>\n",
       "      <td>Delhi</td>\n",
       "      <td>Banana</td>\n",
       "      <td>1201</td>\n",
       "    </tr>\n",
       "    <tr>\n",
       "      <th>1675</th>\n",
       "      <td>01 Sep 2014</td>\n",
       "      <td>Delhi</td>\n",
       "      <td>Banana</td>\n",
       "      <td>1200</td>\n",
       "    </tr>\n",
       "    <tr>\n",
       "      <th>1676</th>\n",
       "      <td>30 Aug 2014</td>\n",
       "      <td>Delhi</td>\n",
       "      <td>Banana</td>\n",
       "      <td>1150</td>\n",
       "    </tr>\n",
       "  </tbody>\n",
       "</table>\n",
       "</div>"
      ],
      "text/plain": [
       "       Price Date States Commodity  Modal Price (Rs./Quintal)\n",
       "1674  02 Sep 2014  Delhi    Banana                       1201\n",
       "1675  01 Sep 2014  Delhi    Banana                       1200\n",
       "1676  30 Aug 2014  Delhi    Banana                       1150"
      ]
     },
     "execution_count": 4,
     "metadata": {},
     "output_type": "execute_result"
    }
   ],
   "source": [
    "test_data[0:3]"
   ]
  },
  {
   "cell_type": "code",
   "execution_count": 5,
   "id": "595e2f20",
   "metadata": {},
   "outputs": [
    {
     "name": "stdout",
     "output_type": "stream",
     "text": [
      "1674\n",
      "187\n"
     ]
    }
   ],
   "source": [
    "print(len(data))\n",
    "print(len(test_data))"
   ]
  },
  {
   "cell_type": "code",
   "execution_count": 6,
   "id": "1a1bec2c",
   "metadata": {},
   "outputs": [],
   "source": [
    "scaler = MinMaxScaler(feature_range=(0,1))\n",
    "scaled_data = scaler.fit_transform(data['Modal Price (Rs./Quintal)'].values.reshape(-1,1))"
   ]
  },
  {
   "cell_type": "code",
   "execution_count": 7,
   "id": "0542f30b",
   "metadata": {},
   "outputs": [],
   "source": [
    "prediction_days = 100\n",
    "\n",
    "x_train = []\n",
    "y_train = []\n",
    "\n",
    "for x in range(prediction_days, len(scaled_data)):\n",
    "    x_train.append(scaled_data[x - prediction_days:x, 0])\n",
    "    y_train.append(scaled_data[x, 0])\n",
    "    \n",
    "x_train, y_train = np.array(x_train), np.array(y_train)\n",
    "x_train = np.reshape(x_train, (x_train.shape[0], x_train.shape[1], 1))"
   ]
  },
  {
   "cell_type": "code",
   "execution_count": 8,
   "id": "58560f36",
   "metadata": {},
   "outputs": [
    {
     "name": "stdout",
     "output_type": "stream",
     "text": [
      "(1574, 100, 1)\n",
      "(1574,)\n"
     ]
    }
   ],
   "source": [
    "print(x_train.shape)\n",
    "print(y_train.shape)"
   ]
  },
  {
   "cell_type": "code",
   "execution_count": 9,
   "id": "3af798e7",
   "metadata": {},
   "outputs": [],
   "source": [
    "def LSTM_model():\n",
    "    \n",
    "    model = Sequential()    \n",
    "    model.add(LSTM(units = 50, return_sequences = True, input_shape = (x_train.shape[1],1)))\n",
    "    model.add(Dropout(0.2))\n",
    "    model.add(LSTM(units = 50, return_sequences = True))\n",
    "    model.add(Dropout(0.2))\n",
    "    model.add(LSTM(units = 50))\n",
    "    model.add(Dropout(0.2))\n",
    "    model.add(Dense(units=1))\n",
    "    \n",
    "    return model"
   ]
  },
  {
   "cell_type": "code",
   "execution_count": 10,
   "id": "ea89feeb",
   "metadata": {},
   "outputs": [
    {
     "name": "stdout",
     "output_type": "stream",
     "text": [
      "Model: \"sequential\"\n",
      "_________________________________________________________________\n",
      " Layer (type)                Output Shape              Param #   \n",
      "=================================================================\n",
      " lstm (LSTM)                 (None, 100, 50)           10400     \n",
      "                                                                 \n",
      " dropout (Dropout)           (None, 100, 50)           0         \n",
      "                                                                 \n",
      " lstm_1 (LSTM)               (None, 100, 50)           20200     \n",
      "                                                                 \n",
      " dropout_1 (Dropout)         (None, 100, 50)           0         \n",
      "                                                                 \n",
      " lstm_2 (LSTM)               (None, 50)                20200     \n",
      "                                                                 \n",
      " dropout_2 (Dropout)         (None, 50)                0         \n",
      "                                                                 \n",
      " dense (Dense)               (None, 1)                 51        \n",
      "                                                                 \n",
      "=================================================================\n",
      "Total params: 50,851\n",
      "Trainable params: 50,851\n",
      "Non-trainable params: 0\n",
      "_________________________________________________________________\n"
     ]
    }
   ],
   "source": [
    "model = LSTM_model()\n",
    "model.summary()\n",
    "model.compile(optimizer='adam', loss='mean_squared_error')"
   ]
  },
  {
   "cell_type": "code",
   "execution_count": 11,
   "id": "d9cb24a8",
   "metadata": {},
   "outputs": [
    {
     "name": "stdout",
     "output_type": "stream",
     "text": [
      "Epoch 1/10\n",
      "50/50 [==============================] - ETA: 0s - loss: 0.0299WARNING:tensorflow:Can save best model only with val_loss available, skipping.\n",
      "50/50 [==============================] - 13s 124ms/step - loss: 0.0299\n",
      "Epoch 2/10\n",
      "50/50 [==============================] - ETA: 0s - loss: 0.0133WARNING:tensorflow:Can save best model only with val_loss available, skipping.\n",
      "50/50 [==============================] - 6s 123ms/step - loss: 0.0133\n",
      "Epoch 3/10\n",
      "50/50 [==============================] - ETA: 0s - loss: 0.0125WARNING:tensorflow:Can save best model only with val_loss available, skipping.\n",
      "50/50 [==============================] - 5s 105ms/step - loss: 0.0125\n",
      "Epoch 4/10\n",
      "50/50 [==============================] - ETA: 0s - loss: 0.0112WARNING:tensorflow:Can save best model only with val_loss available, skipping.\n",
      "50/50 [==============================] - 6s 119ms/step - loss: 0.0112\n",
      "Epoch 5/10\n",
      "50/50 [==============================] - ETA: 0s - loss: 0.0103WARNING:tensorflow:Can save best model only with val_loss available, skipping.\n",
      "50/50 [==============================] - 6s 113ms/step - loss: 0.0103\n",
      "Epoch 6/10\n",
      "50/50 [==============================] - ETA: 0s - loss: 0.0098WARNING:tensorflow:Can save best model only with val_loss available, skipping.\n",
      "50/50 [==============================] - 6s 116ms/step - loss: 0.0098\n",
      "Epoch 7/10\n",
      "50/50 [==============================] - ETA: 0s - loss: 0.0100WARNING:tensorflow:Can save best model only with val_loss available, skipping.\n",
      "50/50 [==============================] - 6s 120ms/step - loss: 0.0100\n",
      "Epoch 8/10\n",
      "50/50 [==============================] - ETA: 0s - loss: 0.0091WARNING:tensorflow:Can save best model only with val_loss available, skipping.\n",
      "50/50 [==============================] - 6s 117ms/step - loss: 0.0091\n",
      "Epoch 9/10\n",
      "50/50 [==============================] - ETA: 0s - loss: 0.0089WARNING:tensorflow:Can save best model only with val_loss available, skipping.\n",
      "50/50 [==============================] - 5s 100ms/step - loss: 0.0089\n",
      "Epoch 10/10\n",
      "50/50 [==============================] - ETA: 0s - loss: 0.0085WARNING:tensorflow:Can save best model only with val_loss available, skipping.\n",
      "50/50 [==============================] - 5s 109ms/step - loss: 0.0085\n"
     ]
    },
    {
     "data": {
      "text/plain": [
       "<keras.callbacks.History at 0x1f140291900>"
      ]
     },
     "execution_count": 11,
     "metadata": {},
     "output_type": "execute_result"
    }
   ],
   "source": [
    "checkpointer = ModelCheckpoint(filepath = 'weights_best.hdf5', verbose = 1, save_best_only = True)\n",
    "model.fit(x_train, y_train, epochs=10, batch_size = 32,callbacks = [checkpointer])"
   ]
  },
  {
   "cell_type": "code",
   "execution_count": 12,
   "id": "7b241910",
   "metadata": {},
   "outputs": [],
   "source": [
    "actual_prices = test_data['Modal Price (Rs./Quintal)'].values\n",
    "total_dataset = pd.concat((data['Modal Price (Rs./Quintal)'], test_data['Modal Price (Rs./Quintal)']), axis=0)\n",
    "\n",
    "model_inputs = total_dataset[len(total_dataset)-len(test_data)-prediction_days:].values\n",
    "model_inputs = model_inputs.reshape(-1,1)\n",
    "model_inputs = scaler.transform(model_inputs)"
   ]
  },
  {
   "cell_type": "code",
   "execution_count": 13,
   "id": "f9824b98",
   "metadata": {},
   "outputs": [
    {
     "name": "stdout",
     "output_type": "stream",
     "text": [
      "6/6 [==============================] - 2s 37ms/step\n"
     ]
    }
   ],
   "source": [
    "x_test = []\n",
    "for x in range(prediction_days,len(model_inputs)):\n",
    "    x_test.append(model_inputs[x-prediction_days:x,0])\n",
    "\n",
    "x_test = np.array(x_test)\n",
    "x_test = np.reshape(x_test,(x_test.shape[0],x_test.shape[1],1))\n",
    "\n",
    "predicted_prices = model.predict(x_test)\n",
    "predicted_prices = scaler.inverse_transform(predicted_prices)"
   ]
  },
  {
   "cell_type": "code",
   "execution_count": 14,
   "id": "19a295ff",
   "metadata": {},
   "outputs": [
    {
     "data": {
      "image/png": "[encoded data removed]",
      "text/plain": [
       "<Figure size 640x480 with 1 Axes>"
      ]
     },
     "metadata": {},
     "output_type": "display_data"
    }
   ],
   "source": [
    "plt.plot(actual_prices, color='black', label=f\"actual price\")\n",
    "plt.plot(predicted_prices, color= 'green', label=f\"predicted price\")\n",
    "plt.title(f\"BANANA\")\n",
    "plt.xlabel(\"day\")\n",
    "plt.ylabel(f\"price\")\n",
    "plt.legend()\n",
    "plt.show()"
   ]
  },
  {
   "cell_type": "code",
   "execution_count": 15,
   "id": "2b4f0432",
   "metadata": {},
   "outputs": [
    {
     "name": "stdout",
     "output_type": "stream",
     "text": [
      "(1, 99, 1)\n"
     ]
    }
   ],
   "source": [
    "real_data = [model_inputs[len(model_inputs)+1-prediction_days:len(model_inputs+1),0]]\n",
    "real_data = np.array(real_data)\n",
    "real_data = np.reshape(real_data,(real_data.shape[0],real_data.shape[1],1))\n",
    "print(real_data.shape)"
   ]
  },
  {
   "cell_type": "code",
   "execution_count": 16,
   "id": "f0f29560",
   "metadata": {},
   "outputs": [
    {
     "name": "stdout",
     "output_type": "stream",
     "text": [
      "1/1 [==============================] - 2s 2s/step\n",
      "prediction: [[1642.5303]]\n"
     ]
    }
   ],
   "source": [
    "prediction = model.predict(real_data)\n",
    "prediction = scaler.inverse_transform(prediction)\n",
    "print(f\"prediction: {prediction}\")"
   ]
  },
  {
   "cell_type": "code",
   "execution_count": null,
   "id": "b715cfbe",
   "metadata": {},
   "outputs": [],
   "source": []
  },
  {
   "cell_type": "code",
   "execution_count": null,
   "id": "a34ab796",
   "metadata": {},
   "outputs": [],
   "source": []
  },
  {
   "cell_type": "code",
   "execution_count": null,
   "id": "95848600",
   "metadata": {},
   "outputs": [],
   "source": []
  },
  {
   "cell_type": "code",
   "execution_count": null,
   "id": "f540e586",
   "metadata": {},
   "outputs": [],
   "source": []
  },
  {
   "cell_type": "code",
   "execution_count": null,
   "id": "e7dfb8a0",
   "metadata": {},
   "outputs": [],
   "source": []
  },
  {
   "cell_type": "code",
   "execution_count": null,
   "id": "3fd7ef8c",
   "metadata": {},
   "outputs": [],
   "source": []
  }
 ],
 "metadata": {
  "kernelspec": {
   "display_name": "Python 3 (ipykernel)",
   "language": "python",
   "name": "python3"
  },
  "language_info": {
   "codemirror_mode": {
    "name": "ipython",
    "version": 3
   },
   "file_extension": ".py",
   "mimetype": "text/x-python",
   "name": "python",
   "nbconvert_exporter": "python",
   "pygments_lexer": "ipython3",
   "version": "3.10.9"
  }
 },
 "nbformat": 4,
 "nbformat_minor": 5
}
